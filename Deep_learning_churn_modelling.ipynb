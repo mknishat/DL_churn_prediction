{
  "nbformat": 4,
  "nbformat_minor": 0,
  "metadata": {
    "colab": {
      "provenance": []
    },
    "kernelspec": {
      "name": "python3",
      "display_name": "Python 3"
    },
    "language_info": {
      "name": "python"
    }
  },
  "cells": [
    {
      "cell_type": "code",
      "execution_count": null,
      "metadata": {
        "colab": {
          "base_uri": "https://localhost:8080/"
        },
        "id": "KMQO-lpC6lgI",
        "outputId": "158fb04d-ccef-4ac9-cd4d-9502644975c7"
      },
      "outputs": [
        {
          "output_type": "stream",
          "name": "stdout",
          "text": [
            "Collecting tensorflow-gpu\n",
            "  Using cached tensorflow-gpu-2.12.0.tar.gz (2.6 kB)\n",
            "  \u001b[1;31merror\u001b[0m: \u001b[1msubprocess-exited-with-error\u001b[0m\n",
            "  \n",
            "  \u001b[31m×\u001b[0m \u001b[32mpython setup.py egg_info\u001b[0m did not run successfully.\n",
            "  \u001b[31m│\u001b[0m exit code: \u001b[1;36m1\u001b[0m\n",
            "  \u001b[31m╰─>\u001b[0m See above for output.\n",
            "  \n",
            "  \u001b[1;35mnote\u001b[0m: This error originates from a subprocess, and is likely not a problem with pip.\n",
            "  Preparing metadata (setup.py) ... \u001b[?25l\u001b[?25herror\n",
            "\u001b[1;31merror\u001b[0m: \u001b[1mmetadata-generation-failed\u001b[0m\n",
            "\n",
            "\u001b[31m×\u001b[0m Encountered error while generating package metadata.\n",
            "\u001b[31m╰─>\u001b[0m See above for output.\n",
            "\n",
            "\u001b[1;35mnote\u001b[0m: This is an issue with the package mentioned above, not pip.\n",
            "\u001b[1;36mhint\u001b[0m: See above for details.\n"
          ]
        }
      ],
      "source": [
        "!pip install tensorflow-gpu"
      ]
    },
    {
      "cell_type": "code",
      "source": [
        "import tensorflow as tf"
      ],
      "metadata": {
        "id": "D2IliGyI62B0"
      },
      "execution_count": null,
      "outputs": []
    },
    {
      "cell_type": "code",
      "source": [
        "print(tf.__version__)"
      ],
      "metadata": {
        "colab": {
          "base_uri": "https://localhost:8080/"
        },
        "id": "4_fyxUHb7GuH",
        "outputId": "e1a5bbc2-a94c-4d85-a09c-87ce1fa0467b"
      },
      "execution_count": null,
      "outputs": [
        {
          "output_type": "stream",
          "name": "stdout",
          "text": [
            "2.12.0\n"
          ]
        }
      ]
    },
    {
      "cell_type": "code",
      "source": [
        "# Importing the libraries\n",
        "import numpy as np\n",
        "import matplotlib.pyplot as plt\n",
        "import pandas as pd"
      ],
      "metadata": {
        "id": "LLvV2K-o7KAp"
      },
      "execution_count": null,
      "outputs": []
    },
    {
      "cell_type": "code",
      "source": [
        "# Importing the dataset\n",
        "dataset = pd.read_csv('Churn_Modelling.csv')\n",
        "X = dataset.iloc[:, 3:13]\n",
        "y = dataset.iloc[:, 13]"
      ],
      "metadata": {
        "id": "gHRHobkK7Sxn"
      },
      "execution_count": null,
      "outputs": []
    },
    {
      "cell_type": "code",
      "source": [
        "dataset.head(5)"
      ],
      "metadata": {
        "colab": {
          "base_uri": "https://localhost:8080/",
          "height": 270
        },
        "id": "_P3tiBxUx42N",
        "outputId": "2d832e0e-f952-4f4f-e47c-da2bf4afa492"
      },
      "execution_count": null,
      "outputs": [
        {
          "output_type": "execute_result",
          "data": {
            "text/plain": [
              "   RowNumber  CustomerId   Surname  CreditScore Geography  Gender  Age  \\\n",
              "0          1    15634602  Hargrave          619    France  Female   42   \n",
              "1          2    15647311      Hill          608     Spain  Female   41   \n",
              "2          3    15619304      Onio          502    France  Female   42   \n",
              "3          4    15701354      Boni          699    France  Female   39   \n",
              "4          5    15737888  Mitchell          850     Spain  Female   43   \n",
              "\n",
              "   Tenure    Balance  NumOfProducts  HasCrCard  IsActiveMember  \\\n",
              "0       2       0.00              1          1               1   \n",
              "1       1   83807.86              1          0               1   \n",
              "2       8  159660.80              3          1               0   \n",
              "3       1       0.00              2          0               0   \n",
              "4       2  125510.82              1          1               1   \n",
              "\n",
              "   EstimatedSalary  Exited  \n",
              "0        101348.88       1  \n",
              "1        112542.58       0  \n",
              "2        113931.57       1  \n",
              "3         93826.63       0  \n",
              "4         79084.10       0  "
            ],
            "text/html": [
              "\n",
              "\n",
              "  <div id=\"df-b5b9d6ff-59f1-43cd-9f54-9c4cc243cd9f\">\n",
              "    <div class=\"colab-df-container\">\n",
              "      <div>\n",
              "<style scoped>\n",
              "    .dataframe tbody tr th:only-of-type {\n",
              "        vertical-align: middle;\n",
              "    }\n",
              "\n",
              "    .dataframe tbody tr th {\n",
              "        vertical-align: top;\n",
              "    }\n",
              "\n",
              "    .dataframe thead th {\n",
              "        text-align: right;\n",
              "    }\n",
              "</style>\n",
              "<table border=\"1\" class=\"dataframe\">\n",
              "  <thead>\n",
              "    <tr style=\"text-align: right;\">\n",
              "      <th></th>\n",
              "      <th>RowNumber</th>\n",
              "      <th>CustomerId</th>\n",
              "      <th>Surname</th>\n",
              "      <th>CreditScore</th>\n",
              "      <th>Geography</th>\n",
              "      <th>Gender</th>\n",
              "      <th>Age</th>\n",
              "      <th>Tenure</th>\n",
              "      <th>Balance</th>\n",
              "      <th>NumOfProducts</th>\n",
              "      <th>HasCrCard</th>\n",
              "      <th>IsActiveMember</th>\n",
              "      <th>EstimatedSalary</th>\n",
              "      <th>Exited</th>\n",
              "    </tr>\n",
              "  </thead>\n",
              "  <tbody>\n",
              "    <tr>\n",
              "      <th>0</th>\n",
              "      <td>1</td>\n",
              "      <td>15634602</td>\n",
              "      <td>Hargrave</td>\n",
              "      <td>619</td>\n",
              "      <td>France</td>\n",
              "      <td>Female</td>\n",
              "      <td>42</td>\n",
              "      <td>2</td>\n",
              "      <td>0.00</td>\n",
              "      <td>1</td>\n",
              "      <td>1</td>\n",
              "      <td>1</td>\n",
              "      <td>101348.88</td>\n",
              "      <td>1</td>\n",
              "    </tr>\n",
              "    <tr>\n",
              "      <th>1</th>\n",
              "      <td>2</td>\n",
              "      <td>15647311</td>\n",
              "      <td>Hill</td>\n",
              "      <td>608</td>\n",
              "      <td>Spain</td>\n",
              "      <td>Female</td>\n",
              "      <td>41</td>\n",
              "      <td>1</td>\n",
              "      <td>83807.86</td>\n",
              "      <td>1</td>\n",
              "      <td>0</td>\n",
              "      <td>1</td>\n",
              "      <td>112542.58</td>\n",
              "      <td>0</td>\n",
              "    </tr>\n",
              "    <tr>\n",
              "      <th>2</th>\n",
              "      <td>3</td>\n",
              "      <td>15619304</td>\n",
              "      <td>Onio</td>\n",
              "      <td>502</td>\n",
              "      <td>France</td>\n",
              "      <td>Female</td>\n",
              "      <td>42</td>\n",
              "      <td>8</td>\n",
              "      <td>159660.80</td>\n",
              "      <td>3</td>\n",
              "      <td>1</td>\n",
              "      <td>0</td>\n",
              "      <td>113931.57</td>\n",
              "      <td>1</td>\n",
              "    </tr>\n",
              "    <tr>\n",
              "      <th>3</th>\n",
              "      <td>4</td>\n",
              "      <td>15701354</td>\n",
              "      <td>Boni</td>\n",
              "      <td>699</td>\n",
              "      <td>France</td>\n",
              "      <td>Female</td>\n",
              "      <td>39</td>\n",
              "      <td>1</td>\n",
              "      <td>0.00</td>\n",
              "      <td>2</td>\n",
              "      <td>0</td>\n",
              "      <td>0</td>\n",
              "      <td>93826.63</td>\n",
              "      <td>0</td>\n",
              "    </tr>\n",
              "    <tr>\n",
              "      <th>4</th>\n",
              "      <td>5</td>\n",
              "      <td>15737888</td>\n",
              "      <td>Mitchell</td>\n",
              "      <td>850</td>\n",
              "      <td>Spain</td>\n",
              "      <td>Female</td>\n",
              "      <td>43</td>\n",
              "      <td>2</td>\n",
              "      <td>125510.82</td>\n",
              "      <td>1</td>\n",
              "      <td>1</td>\n",
              "      <td>1</td>\n",
              "      <td>79084.10</td>\n",
              "      <td>0</td>\n",
              "    </tr>\n",
              "  </tbody>\n",
              "</table>\n",
              "</div>\n",
              "      <button class=\"colab-df-convert\" onclick=\"convertToInteractive('df-b5b9d6ff-59f1-43cd-9f54-9c4cc243cd9f')\"\n",
              "              title=\"Convert this dataframe to an interactive table.\"\n",
              "              style=\"display:none;\">\n",
              "\n",
              "  <svg xmlns=\"http://www.w3.org/2000/svg\" height=\"24px\"viewBox=\"0 0 24 24\"\n",
              "       width=\"24px\">\n",
              "    <path d=\"M0 0h24v24H0V0z\" fill=\"none\"/>\n",
              "    <path d=\"M18.56 5.44l.94 2.06.94-2.06 2.06-.94-2.06-.94-.94-2.06-.94 2.06-2.06.94zm-11 1L8.5 8.5l.94-2.06 2.06-.94-2.06-.94L8.5 2.5l-.94 2.06-2.06.94zm10 10l.94 2.06.94-2.06 2.06-.94-2.06-.94-.94-2.06-.94 2.06-2.06.94z\"/><path d=\"M17.41 7.96l-1.37-1.37c-.4-.4-.92-.59-1.43-.59-.52 0-1.04.2-1.43.59L10.3 9.45l-7.72 7.72c-.78.78-.78 2.05 0 2.83L4 21.41c.39.39.9.59 1.41.59.51 0 1.02-.2 1.41-.59l7.78-7.78 2.81-2.81c.8-.78.8-2.07 0-2.86zM5.41 20L4 18.59l7.72-7.72 1.47 1.35L5.41 20z\"/>\n",
              "  </svg>\n",
              "      </button>\n",
              "\n",
              "\n",
              "\n",
              "    <div id=\"df-c17077ff-145f-455f-85d9-03e86443ac67\">\n",
              "      <button class=\"colab-df-quickchart\" onclick=\"quickchart('df-c17077ff-145f-455f-85d9-03e86443ac67')\"\n",
              "              title=\"Suggest charts.\"\n",
              "              style=\"display:none;\">\n",
              "\n",
              "<svg xmlns=\"http://www.w3.org/2000/svg\" height=\"24px\"viewBox=\"0 0 24 24\"\n",
              "     width=\"24px\">\n",
              "    <g>\n",
              "        <path d=\"M19 3H5c-1.1 0-2 .9-2 2v14c0 1.1.9 2 2 2h14c1.1 0 2-.9 2-2V5c0-1.1-.9-2-2-2zM9 17H7v-7h2v7zm4 0h-2V7h2v10zm4 0h-2v-4h2v4z\"/>\n",
              "    </g>\n",
              "</svg>\n",
              "      </button>\n",
              "    </div>\n",
              "\n",
              "<style>\n",
              "  .colab-df-quickchart {\n",
              "    background-color: #E8F0FE;\n",
              "    border: none;\n",
              "    border-radius: 50%;\n",
              "    cursor: pointer;\n",
              "    display: none;\n",
              "    fill: #1967D2;\n",
              "    height: 32px;\n",
              "    padding: 0 0 0 0;\n",
              "    width: 32px;\n",
              "  }\n",
              "\n",
              "  .colab-df-quickchart:hover {\n",
              "    background-color: #E2EBFA;\n",
              "    box-shadow: 0px 1px 2px rgba(60, 64, 67, 0.3), 0px 1px 3px 1px rgba(60, 64, 67, 0.15);\n",
              "    fill: #174EA6;\n",
              "  }\n",
              "\n",
              "  [theme=dark] .colab-df-quickchart {\n",
              "    background-color: #3B4455;\n",
              "    fill: #D2E3FC;\n",
              "  }\n",
              "\n",
              "  [theme=dark] .colab-df-quickchart:hover {\n",
              "    background-color: #434B5C;\n",
              "    box-shadow: 0px 1px 3px 1px rgba(0, 0, 0, 0.15);\n",
              "    filter: drop-shadow(0px 1px 2px rgba(0, 0, 0, 0.3));\n",
              "    fill: #FFFFFF;\n",
              "  }\n",
              "</style>\n",
              "\n",
              "    <script>\n",
              "      async function quickchart(key) {\n",
              "        const containerElement = document.querySelector('#' + key);\n",
              "        const charts = await google.colab.kernel.invokeFunction(\n",
              "            'suggestCharts', [key], {});\n",
              "      }\n",
              "    </script>\n",
              "\n",
              "      <script>\n",
              "\n",
              "function displayQuickchartButton(domScope) {\n",
              "  let quickchartButtonEl =\n",
              "    domScope.querySelector('#df-c17077ff-145f-455f-85d9-03e86443ac67 button.colab-df-quickchart');\n",
              "  quickchartButtonEl.style.display =\n",
              "    google.colab.kernel.accessAllowed ? 'block' : 'none';\n",
              "}\n",
              "\n",
              "        displayQuickchartButton(document);\n",
              "      </script>\n",
              "      <style>\n",
              "    .colab-df-container {\n",
              "      display:flex;\n",
              "      flex-wrap:wrap;\n",
              "      gap: 12px;\n",
              "    }\n",
              "\n",
              "    .colab-df-convert {\n",
              "      background-color: #E8F0FE;\n",
              "      border: none;\n",
              "      border-radius: 50%;\n",
              "      cursor: pointer;\n",
              "      display: none;\n",
              "      fill: #1967D2;\n",
              "      height: 32px;\n",
              "      padding: 0 0 0 0;\n",
              "      width: 32px;\n",
              "    }\n",
              "\n",
              "    .colab-df-convert:hover {\n",
              "      background-color: #E2EBFA;\n",
              "      box-shadow: 0px 1px 2px rgba(60, 64, 67, 0.3), 0px 1px 3px 1px rgba(60, 64, 67, 0.15);\n",
              "      fill: #174EA6;\n",
              "    }\n",
              "\n",
              "    [theme=dark] .colab-df-convert {\n",
              "      background-color: #3B4455;\n",
              "      fill: #D2E3FC;\n",
              "    }\n",
              "\n",
              "    [theme=dark] .colab-df-convert:hover {\n",
              "      background-color: #434B5C;\n",
              "      box-shadow: 0px 1px 3px 1px rgba(0, 0, 0, 0.15);\n",
              "      filter: drop-shadow(0px 1px 2px rgba(0, 0, 0, 0.3));\n",
              "      fill: #FFFFFF;\n",
              "    }\n",
              "  </style>\n",
              "\n",
              "      <script>\n",
              "        const buttonEl =\n",
              "          document.querySelector('#df-b5b9d6ff-59f1-43cd-9f54-9c4cc243cd9f button.colab-df-convert');\n",
              "        buttonEl.style.display =\n",
              "          google.colab.kernel.accessAllowed ? 'block' : 'none';\n",
              "\n",
              "        async function convertToInteractive(key) {\n",
              "          const element = document.querySelector('#df-b5b9d6ff-59f1-43cd-9f54-9c4cc243cd9f');\n",
              "          const dataTable =\n",
              "            await google.colab.kernel.invokeFunction('convertToInteractive',\n",
              "                                                     [key], {});\n",
              "          if (!dataTable) return;\n",
              "\n",
              "          const docLinkHtml = 'Like what you see? Visit the ' +\n",
              "            '<a target=\"_blank\" href=https://colab.research.google.com/notebooks/data_table.ipynb>data table notebook</a>'\n",
              "            + ' to learn more about interactive tables.';\n",
              "          element.innerHTML = '';\n",
              "          dataTable['output_type'] = 'display_data';\n",
              "          await google.colab.output.renderOutput(dataTable, element);\n",
              "          const docLink = document.createElement('div');\n",
              "          docLink.innerHTML = docLinkHtml;\n",
              "          element.appendChild(docLink);\n",
              "        }\n",
              "      </script>\n",
              "    </div>\n",
              "  </div>\n"
            ]
          },
          "metadata": {},
          "execution_count": 61
        }
      ]
    },
    {
      "cell_type": "code",
      "source": [
        "#Create dummy variables\n",
        "geography=pd.get_dummies(X[\"Geography\"],drop_first=True)\n",
        "gender=pd.get_dummies(X['Gender'],drop_first=True)"
      ],
      "metadata": {
        "id": "T2yS0VL67Ufn"
      },
      "execution_count": null,
      "outputs": []
    },
    {
      "cell_type": "code",
      "source": [
        "## Concatenate the Data Frames\n",
        "\n",
        "X=pd.concat([X,geography,gender],axis=1)\n",
        "\n",
        "## Drop Unnecessary columns\n",
        "X=X.drop(['Geography','Gender'],axis=1)\n",
        "\n",
        "# Splitting the dataset into the Training set and Test set\n",
        "from sklearn.model_selection import train_test_split\n",
        "X_train, X_test, y_train, y_test = train_test_split(X, y, test_size = 0.2, random_state = 0)\n"
      ],
      "metadata": {
        "id": "Co2rxaFR7Wgo"
      },
      "execution_count": null,
      "outputs": []
    },
    {
      "cell_type": "code",
      "source": [
        "# Feature Scaling\n",
        "from sklearn.preprocessing import StandardScaler\n",
        "sc = StandardScaler()\n",
        "X_train = sc.fit_transform(X_train)\n",
        "X_test = sc.transform(X_test)\n"
      ],
      "metadata": {
        "id": "GNZrZXy37ZLs"
      },
      "execution_count": null,
      "outputs": []
    },
    {
      "cell_type": "code",
      "source": [
        "# Part 2 - Now let's make the ANN!"
      ],
      "metadata": {
        "id": "uwN3bgie7bvT"
      },
      "execution_count": null,
      "outputs": []
    },
    {
      "cell_type": "code",
      "source": [
        "from tensorflow.keras.models import Sequential\n",
        "from tensorflow.keras.layers import Dense\n",
        "from tensorflow.keras.layers import LeakyReLU,PReLU,ELU,ReLU\n",
        "from tensorflow.keras.layers import Dropout\n"
      ],
      "metadata": {
        "id": "rL_a7vWu7dj1"
      },
      "execution_count": null,
      "outputs": []
    },
    {
      "cell_type": "code",
      "source": [
        "# Initialising the ANN\n",
        "classifier = Sequential()"
      ],
      "metadata": {
        "id": "VDJwvrbZ7kj4"
      },
      "execution_count": null,
      "outputs": []
    },
    {
      "cell_type": "code",
      "source": [
        "# Adding the input layer\n",
        "classifier.add(Dense(units=11,activation='relu'))"
      ],
      "metadata": {
        "id": "RSZQrU-g7z4N"
      },
      "execution_count": null,
      "outputs": []
    },
    {
      "cell_type": "code",
      "source": [
        "# Adding  first hidden layer\n",
        "classifier.add(Dense(units=6,activation='relu'))\n",
        "classifier.add(Dropout(0.2))"
      ],
      "metadata": {
        "id": "byszZMvw8RcQ"
      },
      "execution_count": null,
      "outputs": []
    },
    {
      "cell_type": "code",
      "source": [
        "# Adding  second hidden layer\n",
        "classifier.add(Dense(units=7,activation='relu'))\n",
        "classifier.add(Dropout(0.3))"
      ],
      "metadata": {
        "id": "zz0ajBt0FN7p"
      },
      "execution_count": null,
      "outputs": []
    },
    {
      "cell_type": "code",
      "source": [
        "# Adding second hidden layer\n",
        "classifier.add(Dense(units=1,activation='sigmoid'))"
      ],
      "metadata": {
        "id": "Mk2slmAX8XUI"
      },
      "execution_count": null,
      "outputs": []
    },
    {
      "cell_type": "code",
      "source": [
        "# define learning rate\n",
        "import tensorflow\n",
        "opt=tensorflow.keras.optimizers.Adam(learning_rate=0.01)"
      ],
      "metadata": {
        "id": "M9yCUTtlGOVh"
      },
      "execution_count": null,
      "outputs": []
    },
    {
      "cell_type": "code",
      "source": [
        "classifier.compile(optimizer='adam',loss='binary_crossentropy',metrics=['accuracy'])"
      ],
      "metadata": {
        "id": "F2udThHo8cFt"
      },
      "execution_count": null,
      "outputs": []
    },
    {
      "cell_type": "code",
      "source": [
        "#Early Stoping\n",
        "early_stoping=tf.keras.callbacks.EarlyStopping(\n",
        "    monitor=\"val_loss\",\n",
        "    min_delta=0.0001,\n",
        "    patience=20,\n",
        "    verbose=1,\n",
        "    mode=\"auto\",\n",
        "    baseline=None,\n",
        "    restore_best_weights=False,\n",
        "    start_from_epoch=0,\n",
        ")"
      ],
      "metadata": {
        "id": "N9G-l-v6IhD8"
      },
      "execution_count": null,
      "outputs": []
    },
    {
      "cell_type": "code",
      "source": [
        "model_history=classifier.fit(X_train,y_train,validation_split=0.33,batch_size=10,epochs=1000,callbacks=early_stoping)"
      ],
      "metadata": {
        "colab": {
          "base_uri": "https://localhost:8080/"
        },
        "id": "3qairJAs8fIc",
        "outputId": "dcde1589-c25a-435c-924a-072b9e8c7ad2"
      },
      "execution_count": null,
      "outputs": [
        {
          "output_type": "stream",
          "name": "stdout",
          "text": [
            "Epoch 1/1000\n",
            "536/536 [==============================] - 3s 4ms/step - loss: 0.6482 - accuracy: 0.6932 - val_loss: 0.5389 - val_accuracy: 0.7955\n",
            "Epoch 2/1000\n",
            "536/536 [==============================] - 1s 3ms/step - loss: 0.5278 - accuracy: 0.7966 - val_loss: 0.4951 - val_accuracy: 0.7955\n",
            "Epoch 3/1000\n",
            "536/536 [==============================] - 3s 6ms/step - loss: 0.4932 - accuracy: 0.8043 - val_loss: 0.4559 - val_accuracy: 0.8080\n",
            "Epoch 4/1000\n",
            "536/536 [==============================] - 3s 5ms/step - loss: 0.4581 - accuracy: 0.8138 - val_loss: 0.4319 - val_accuracy: 0.8152\n",
            "Epoch 5/1000\n",
            "536/536 [==============================] - 2s 5ms/step - loss: 0.4382 - accuracy: 0.8138 - val_loss: 0.3992 - val_accuracy: 0.8289\n",
            "Epoch 6/1000\n",
            "536/536 [==============================] - 3s 5ms/step - loss: 0.4116 - accuracy: 0.8322 - val_loss: 0.3838 - val_accuracy: 0.8323\n",
            "Epoch 7/1000\n",
            "536/536 [==============================] - 3s 6ms/step - loss: 0.4054 - accuracy: 0.8291 - val_loss: 0.3789 - val_accuracy: 0.8368\n",
            "Epoch 8/1000\n",
            "536/536 [==============================] - 4s 8ms/step - loss: 0.3900 - accuracy: 0.8397 - val_loss: 0.3742 - val_accuracy: 0.8459\n",
            "Epoch 9/1000\n",
            "536/536 [==============================] - 3s 6ms/step - loss: 0.3888 - accuracy: 0.8382 - val_loss: 0.3718 - val_accuracy: 0.8429\n",
            "Epoch 10/1000\n",
            "536/536 [==============================] - 3s 5ms/step - loss: 0.3846 - accuracy: 0.8414 - val_loss: 0.3712 - val_accuracy: 0.8482\n",
            "Epoch 11/1000\n",
            "536/536 [==============================] - 5s 10ms/step - loss: 0.3840 - accuracy: 0.8391 - val_loss: 0.3728 - val_accuracy: 0.8436\n",
            "Epoch 12/1000\n",
            "536/536 [==============================] - 1s 3ms/step - loss: 0.3868 - accuracy: 0.8408 - val_loss: 0.3721 - val_accuracy: 0.8448\n",
            "Epoch 13/1000\n",
            "536/536 [==============================] - 1s 3ms/step - loss: 0.3820 - accuracy: 0.8380 - val_loss: 0.3697 - val_accuracy: 0.8512\n",
            "Epoch 14/1000\n",
            "536/536 [==============================] - 1s 3ms/step - loss: 0.3816 - accuracy: 0.8382 - val_loss: 0.3680 - val_accuracy: 0.8535\n",
            "Epoch 15/1000\n",
            "536/536 [==============================] - 1s 3ms/step - loss: 0.3787 - accuracy: 0.8438 - val_loss: 0.3684 - val_accuracy: 0.8504\n",
            "Epoch 16/1000\n",
            "536/536 [==============================] - 2s 3ms/step - loss: 0.3767 - accuracy: 0.8425 - val_loss: 0.3666 - val_accuracy: 0.8516\n",
            "Epoch 17/1000\n",
            "536/536 [==============================] - 1s 3ms/step - loss: 0.3742 - accuracy: 0.8457 - val_loss: 0.3640 - val_accuracy: 0.8546\n",
            "Epoch 18/1000\n",
            "536/536 [==============================] - 2s 3ms/step - loss: 0.3735 - accuracy: 0.8459 - val_loss: 0.3672 - val_accuracy: 0.8523\n",
            "Epoch 19/1000\n",
            "536/536 [==============================] - 2s 4ms/step - loss: 0.3749 - accuracy: 0.8481 - val_loss: 0.3646 - val_accuracy: 0.8542\n",
            "Epoch 20/1000\n",
            "536/536 [==============================] - 2s 3ms/step - loss: 0.3705 - accuracy: 0.8462 - val_loss: 0.3639 - val_accuracy: 0.8535\n",
            "Epoch 21/1000\n",
            "536/536 [==============================] - 1s 3ms/step - loss: 0.3699 - accuracy: 0.8477 - val_loss: 0.3659 - val_accuracy: 0.8512\n",
            "Epoch 22/1000\n",
            "536/536 [==============================] - 2s 3ms/step - loss: 0.3718 - accuracy: 0.8433 - val_loss: 0.3645 - val_accuracy: 0.8550\n",
            "Epoch 23/1000\n",
            "536/536 [==============================] - 1s 3ms/step - loss: 0.3689 - accuracy: 0.8457 - val_loss: 0.3637 - val_accuracy: 0.8538\n",
            "Epoch 24/1000\n",
            "536/536 [==============================] - 1s 3ms/step - loss: 0.3684 - accuracy: 0.8502 - val_loss: 0.3664 - val_accuracy: 0.8523\n",
            "Epoch 25/1000\n",
            "536/536 [==============================] - 2s 3ms/step - loss: 0.3577 - accuracy: 0.8526 - val_loss: 0.3626 - val_accuracy: 0.8538\n",
            "Epoch 26/1000\n",
            "536/536 [==============================] - 2s 4ms/step - loss: 0.3649 - accuracy: 0.8462 - val_loss: 0.3633 - val_accuracy: 0.8508\n",
            "Epoch 27/1000\n",
            "536/536 [==============================] - 2s 3ms/step - loss: 0.3668 - accuracy: 0.8539 - val_loss: 0.3632 - val_accuracy: 0.8531\n",
            "Epoch 28/1000\n",
            "536/536 [==============================] - 2s 3ms/step - loss: 0.3612 - accuracy: 0.8492 - val_loss: 0.3626 - val_accuracy: 0.8535\n",
            "Epoch 29/1000\n",
            "536/536 [==============================] - 2s 3ms/step - loss: 0.3662 - accuracy: 0.8459 - val_loss: 0.3630 - val_accuracy: 0.8516\n",
            "Epoch 30/1000\n",
            "536/536 [==============================] - 2s 3ms/step - loss: 0.3632 - accuracy: 0.8485 - val_loss: 0.3629 - val_accuracy: 0.8546\n",
            "Epoch 31/1000\n",
            "536/536 [==============================] - 1s 3ms/step - loss: 0.3596 - accuracy: 0.8541 - val_loss: 0.3632 - val_accuracy: 0.8542\n",
            "Epoch 32/1000\n",
            "536/536 [==============================] - 1s 3ms/step - loss: 0.3576 - accuracy: 0.8531 - val_loss: 0.3632 - val_accuracy: 0.8550\n",
            "Epoch 33/1000\n",
            "536/536 [==============================] - 2s 3ms/step - loss: 0.3639 - accuracy: 0.8479 - val_loss: 0.3622 - val_accuracy: 0.8550\n",
            "Epoch 34/1000\n",
            "536/536 [==============================] - 2s 4ms/step - loss: 0.3571 - accuracy: 0.8552 - val_loss: 0.3624 - val_accuracy: 0.8512\n",
            "Epoch 35/1000\n",
            "536/536 [==============================] - 1s 3ms/step - loss: 0.3627 - accuracy: 0.8477 - val_loss: 0.3607 - val_accuracy: 0.8569\n",
            "Epoch 36/1000\n",
            "536/536 [==============================] - 1s 3ms/step - loss: 0.3595 - accuracy: 0.8492 - val_loss: 0.3619 - val_accuracy: 0.8538\n",
            "Epoch 37/1000\n",
            "536/536 [==============================] - 2s 3ms/step - loss: 0.3657 - accuracy: 0.8526 - val_loss: 0.3662 - val_accuracy: 0.8535\n",
            "Epoch 38/1000\n",
            "536/536 [==============================] - 1s 3ms/step - loss: 0.3650 - accuracy: 0.8474 - val_loss: 0.3615 - val_accuracy: 0.8554\n",
            "Epoch 39/1000\n",
            "536/536 [==============================] - 1s 3ms/step - loss: 0.3668 - accuracy: 0.8472 - val_loss: 0.3640 - val_accuracy: 0.8497\n",
            "Epoch 40/1000\n",
            "536/536 [==============================] - 1s 3ms/step - loss: 0.3650 - accuracy: 0.8507 - val_loss: 0.3618 - val_accuracy: 0.8542\n",
            "Epoch 41/1000\n",
            "536/536 [==============================] - 2s 3ms/step - loss: 0.3601 - accuracy: 0.8535 - val_loss: 0.3612 - val_accuracy: 0.8565\n",
            "Epoch 42/1000\n",
            "536/536 [==============================] - 2s 4ms/step - loss: 0.3611 - accuracy: 0.8528 - val_loss: 0.3616 - val_accuracy: 0.8576\n",
            "Epoch 43/1000\n",
            "536/536 [==============================] - 1s 3ms/step - loss: 0.3608 - accuracy: 0.8483 - val_loss: 0.3622 - val_accuracy: 0.8557\n",
            "Epoch 44/1000\n",
            "536/536 [==============================] - 2s 3ms/step - loss: 0.3602 - accuracy: 0.8548 - val_loss: 0.3632 - val_accuracy: 0.8546\n",
            "Epoch 45/1000\n",
            "536/536 [==============================] - 2s 3ms/step - loss: 0.3583 - accuracy: 0.8533 - val_loss: 0.3596 - val_accuracy: 0.8576\n",
            "Epoch 46/1000\n",
            "536/536 [==============================] - 2s 3ms/step - loss: 0.3556 - accuracy: 0.8543 - val_loss: 0.3614 - val_accuracy: 0.8561\n",
            "Epoch 47/1000\n",
            "536/536 [==============================] - 2s 3ms/step - loss: 0.3618 - accuracy: 0.8541 - val_loss: 0.3614 - val_accuracy: 0.8546\n",
            "Epoch 48/1000\n",
            "536/536 [==============================] - 2s 3ms/step - loss: 0.3615 - accuracy: 0.8524 - val_loss: 0.3624 - val_accuracy: 0.8501\n",
            "Epoch 49/1000\n",
            "536/536 [==============================] - 2s 4ms/step - loss: 0.3568 - accuracy: 0.8565 - val_loss: 0.3598 - val_accuracy: 0.8546\n",
            "Epoch 50/1000\n",
            "536/536 [==============================] - 2s 3ms/step - loss: 0.3553 - accuracy: 0.8554 - val_loss: 0.3619 - val_accuracy: 0.8554\n",
            "Epoch 51/1000\n",
            "536/536 [==============================] - 2s 3ms/step - loss: 0.3549 - accuracy: 0.8543 - val_loss: 0.3613 - val_accuracy: 0.8565\n",
            "Epoch 52/1000\n",
            "536/536 [==============================] - 2s 3ms/step - loss: 0.3576 - accuracy: 0.8530 - val_loss: 0.3603 - val_accuracy: 0.8531\n",
            "Epoch 53/1000\n",
            "536/536 [==============================] - 1s 3ms/step - loss: 0.3613 - accuracy: 0.8502 - val_loss: 0.3620 - val_accuracy: 0.8569\n",
            "Epoch 54/1000\n",
            "536/536 [==============================] - 2s 3ms/step - loss: 0.3569 - accuracy: 0.8520 - val_loss: 0.3612 - val_accuracy: 0.8542\n",
            "Epoch 55/1000\n",
            "536/536 [==============================] - 2s 3ms/step - loss: 0.3594 - accuracy: 0.8541 - val_loss: 0.3607 - val_accuracy: 0.8538\n",
            "Epoch 56/1000\n",
            "536/536 [==============================] - 2s 4ms/step - loss: 0.3639 - accuracy: 0.8502 - val_loss: 0.3657 - val_accuracy: 0.8538\n",
            "Epoch 57/1000\n",
            "536/536 [==============================] - 1s 3ms/step - loss: 0.3588 - accuracy: 0.8539 - val_loss: 0.3602 - val_accuracy: 0.8535\n",
            "Epoch 58/1000\n",
            "536/536 [==============================] - 1s 3ms/step - loss: 0.3590 - accuracy: 0.8565 - val_loss: 0.3622 - val_accuracy: 0.8546\n",
            "Epoch 59/1000\n",
            "536/536 [==============================] - 1s 3ms/step - loss: 0.3551 - accuracy: 0.8543 - val_loss: 0.3623 - val_accuracy: 0.8501\n",
            "Epoch 60/1000\n",
            "536/536 [==============================] - 1s 3ms/step - loss: 0.3525 - accuracy: 0.8561 - val_loss: 0.3643 - val_accuracy: 0.8519\n",
            "Epoch 61/1000\n",
            "536/536 [==============================] - 2s 3ms/step - loss: 0.3568 - accuracy: 0.8586 - val_loss: 0.3610 - val_accuracy: 0.8531\n",
            "Epoch 62/1000\n",
            "536/536 [==============================] - 2s 3ms/step - loss: 0.3557 - accuracy: 0.8559 - val_loss: 0.3619 - val_accuracy: 0.8561\n",
            "Epoch 63/1000\n",
            "536/536 [==============================] - 2s 4ms/step - loss: 0.3558 - accuracy: 0.8558 - val_loss: 0.3622 - val_accuracy: 0.8538\n",
            "Epoch 64/1000\n",
            "536/536 [==============================] - 2s 4ms/step - loss: 0.3553 - accuracy: 0.8552 - val_loss: 0.3635 - val_accuracy: 0.8508\n",
            "Epoch 65/1000\n",
            "536/536 [==============================] - 2s 3ms/step - loss: 0.3533 - accuracy: 0.8591 - val_loss: 0.3648 - val_accuracy: 0.8523\n",
            "Epoch 65: early stopping\n"
          ]
        }
      ]
    },
    {
      "cell_type": "code",
      "source": [
        "# list all data in history\n",
        "\n",
        "print(model_history.history.keys())"
      ],
      "metadata": {
        "colab": {
          "base_uri": "https://localhost:8080/"
        },
        "id": "Q9t_M4wICTTz",
        "outputId": "526d474a-afdf-4df2-d101-1256f7ea8764"
      },
      "execution_count": null,
      "outputs": [
        {
          "output_type": "stream",
          "name": "stdout",
          "text": [
            "dict_keys(['loss', 'accuracy', 'val_loss', 'val_accuracy'])\n"
          ]
        }
      ]
    },
    {
      "cell_type": "code",
      "source": [
        "\n",
        "# summarize history for accuracy\n",
        "plt.plot(model_history.history['accuracy'])\n",
        "plt.plot(model_history.history['val_accuracy'])\n",
        "plt.title('model accuracy')\n",
        "plt.ylabel('accuracy')\n",
        "plt.xlabel('epoch')\n",
        "plt.legend(['train', 'test'], loc='upper left')\n",
        "plt.show()"
      ],
      "metadata": {
        "colab": {
          "base_uri": "https://localhost:8080/",
          "height": 472
        },
        "id": "MMOyiwzgBlLY",
        "outputId": "394d8786-e106-454c-fe91-1fd453e5f766"
      },
      "execution_count": null,
      "outputs": [
        {
          "output_type": "display_data",
          "data": {
            "text/plain": [
              "<Figure size 640x480 with 1 Axes>"
            ],
            "image/png": "[encoded data removed]"
          },
          "metadata": {}
        }
      ]
    },
    {
      "cell_type": "code",
      "source": [
        "# summarize history for loss\n",
        "plt.plot(model_history.history['loss'])\n",
        "plt.plot(model_history.history['val_loss'])\n",
        "plt.title('model loss')\n",
        "plt.ylabel('loss')\n",
        "plt.xlabel('epoch')\n",
        "plt.legend(['train', 'test'], loc='upper left')\n",
        "plt.show()"
      ],
      "metadata": {
        "colab": {
          "base_uri": "https://localhost:8080/",
          "height": 472
        },
        "id": "QH141RsQCEr0",
        "outputId": "afa4102a-efa9-4663-b161-b49923498b94"
      },
      "execution_count": null,
      "outputs": [
        {
          "output_type": "display_data",
          "data": {
            "text/plain": [
              "<Figure size 640x480 with 1 Axes>"
            ],
            "image/png": "[encoded data removed]"
          },
          "metadata": {}
        }
      ]
    },
    {
      "cell_type": "code",
      "source": [
        "# Part 3 - Making the predictions and evaluating the model\n",
        "\n",
        "# Predicting the Test set results\n",
        "y_pred = classifier.predict(X_test)\n",
        "y_pred = (y_pred > 0.5)"
      ],
      "metadata": {
        "id": "OYqCIIkDCd8S",
        "colab": {
          "base_uri": "https://localhost:8080/"
        },
        "outputId": "a0a045ab-7a7c-4933-ce98-9c222df2ecfa"
      },
      "execution_count": null,
      "outputs": [
        {
          "output_type": "stream",
          "name": "stdout",
          "text": [
            "63/63 [==============================] - 0s 1ms/step\n"
          ]
        }
      ]
    },
    {
      "cell_type": "code",
      "source": [
        "# Making the Confusion Matrix\n",
        "from sklearn.metrics import confusion_matrix\n",
        "cm = confusion_matrix(y_test, y_pred)\n",
        "cm"
      ],
      "metadata": {
        "colab": {
          "base_uri": "https://localhost:8080/"
        },
        "id": "cm3EeOGTCi3-",
        "outputId": "d3931171-dd19-4cab-cad3-ec5ee8a4441f"
      },
      "execution_count": null,
      "outputs": [
        {
          "output_type": "execute_result",
          "data": {
            "text/plain": [
              "array([[1555,   40],\n",
              "       [ 239,  166]])"
            ]
          },
          "metadata": {},
          "execution_count": 80
        }
      ]
    },
    {
      "cell_type": "code",
      "source": [
        "# Calculate the Accuracy\n",
        "from sklearn.metrics import accuracy_score\n",
        "score=accuracy_score(y_pred,y_test)"
      ],
      "metadata": {
        "id": "FgfRKzzOClmP"
      },
      "execution_count": null,
      "outputs": []
    },
    {
      "cell_type": "code",
      "source": [
        "score"
      ],
      "metadata": {
        "colab": {
          "base_uri": "https://localhost:8080/"
        },
        "id": "a_C5EETrCpSj",
        "outputId": "a697aa27-8436-4ed0-a048-baf2e33a6f15"
      },
      "execution_count": null,
      "outputs": [
        {
          "output_type": "execute_result",
          "data": {
            "text/plain": [
              "0.8605"
            ]
          },
          "metadata": {},
          "execution_count": 82
        }
      ]
    },
    {
      "cell_type": "code",
      "source": [
        "#get the weight\n",
        "classifier.get_weights()"
      ],
      "metadata": {
        "id": "UTvHAjYWCqWx",
        "colab": {
          "base_uri": "https://localhost:8080/"
        },
        "outputId": "79bfae22-1ae6-4828-c8ad-4da5f7eb5826"
      },
      "execution_count": null,
      "outputs": [
        {
          "output_type": "execute_result",
          "data": {
            "text/plain": [
              "[array([[-0.02013627,  0.44316217,  0.18449622,  0.01165721,  0.03543886,\n",
              "         -0.1370383 , -0.05364286,  0.06984069,  0.14030525, -0.30619824,\n",
              "         -0.23317069],\n",
              "        [ 0.08927606,  0.08760014, -0.8213078 ,  0.8603196 ,  0.21606779,\n",
              "          0.2563096 ,  0.34979075,  0.41533488,  0.13102092,  0.0923616 ,\n",
              "          0.77273107],\n",
              "        [ 0.24398845,  0.1882613 , -0.23735265,  0.0066347 , -0.16332929,\n",
              "          0.19918524, -0.36001134,  0.18598138,  0.32606372,  0.19213836,\n",
              "         -0.19266973],\n",
              "        [ 0.07522529, -0.3585002 , -0.05665575,  0.11141083,  0.19066231,\n",
              "         -0.0943119 ,  0.09836233, -0.3617272 ,  0.4022872 , -0.12109424,\n",
              "         -0.05777559],\n",
              "        [-0.15769787,  0.42851537,  0.05193049,  0.6632169 ,  0.94207495,\n",
              "          0.6691001 , -0.35609055, -0.95509684,  0.5403362 ,  0.3021445 ,\n",
              "         -0.79116905],\n",
              "        [ 0.32254624, -0.09522694, -0.14953363, -0.10061595, -0.1293594 ,\n",
              "          0.06237652, -0.17921354, -0.01219176,  0.39005044,  0.02726217,\n",
              "          0.03461867],\n",
              "        [ 0.17725769,  0.11416468, -0.45901287,  0.43612817, -0.18850301,\n",
              "         -0.15346335, -0.39249814, -0.43840918, -0.06470373,  0.4824461 ,\n",
              "          0.42759115],\n",
              "        [ 0.30792016,  0.16056484,  0.14124519, -0.07509014, -0.01909603,\n",
              "          0.08168558,  0.2888986 ,  0.10677233,  0.24865341, -0.09804181,\n",
              "          0.0368178 ],\n",
              "        [ 0.2882727 , -0.422113  , -0.01550661,  0.00343648, -0.16835758,\n",
              "          0.03521701,  0.12547478,  0.45791617, -0.00778069, -0.06473197,\n",
              "          0.02346471],\n",
              "        [ 0.38804403,  0.3658552 , -0.70317996,  0.11231447, -0.03265479,\n",
              "          0.02904588,  0.04508224,  0.07850391,  0.2925383 , -0.25391784,\n",
              "         -0.13486499],\n",
              "        [-0.05610747,  0.46357533,  0.084938  ,  0.03968175,  0.11003509,\n",
              "          0.17473651, -0.00690509, -0.1004984 , -0.0596534 ,  0.5750754 ,\n",
              "          0.16916327]], dtype=float32),\n",
              " array([ 0.1614978 , -0.01695328,  0.3192023 , -0.7630963 , -0.5272617 ,\n",
              "        -0.707683  , -0.24786009,  0.17576425, -0.44052702,  0.11032497,\n",
              "        -0.27882227], dtype=float32),\n",
              " array([[-0.2247729 , -0.4668059 ,  0.29283282, -0.4366341 , -0.12446827,\n",
              "          0.17119148],\n",
              "        [ 0.01009672, -0.1430127 ,  0.475711  , -0.24572039,  0.44818488,\n",
              "         -0.12453832],\n",
              "        [-0.26856673, -0.4734212 ,  0.04954623, -0.3095661 ,  0.11316255,\n",
              "         -0.39550313],\n",
              "        [-1.3511546 , -0.9304431 , -0.1147168 ,  0.29319   , -0.80129254,\n",
              "          0.20619744],\n",
              "        [-0.7656229 ,  0.8617975 , -0.6830335 ,  0.8021703 , -0.59618086,\n",
              "          0.6154082 ],\n",
              "        [-0.4039748 ,  0.63148415,  0.28884625,  0.41881648, -0.540203  ,\n",
              "          0.49754733],\n",
              "        [ 0.23837514,  0.28131345,  0.30138907,  0.06753614,  0.14155851,\n",
              "          0.3460057 ],\n",
              "        [ 0.4101162 ,  0.5469445 , -0.62129325,  0.3261105 , -0.5874293 ,\n",
              "          0.10651673],\n",
              "        [ 0.00966529,  0.34967902, -0.7000483 ,  0.44270217,  0.05484702,\n",
              "          0.00878224],\n",
              "        [-0.364724  ,  0.09113243,  0.40400618, -0.24608092,  0.32855555,\n",
              "         -0.40549168],\n",
              "        [ 0.31924635,  0.15530081, -0.49874473, -0.74948466, -0.50864   ,\n",
              "         -0.76132506]], dtype=float32),\n",
              " array([-0.21805795, -0.30626315,  0.3047445 , -0.39783782,  0.4528328 ,\n",
              "        -0.42839816], dtype=float32),\n",
              " array([[ 0.11946902, -1.1555567 ,  0.8786269 , -1.0548699 , -0.59997314,\n",
              "         -0.19670852,  0.27014637],\n",
              "        [ 0.6616934 , -0.8499704 , -0.43515602, -0.8547046 , -0.3585927 ,\n",
              "          0.18321702,  0.7312235 ],\n",
              "        [-1.2275065 ,  0.81246394, -1.3894256 ,  0.8326082 , -1.0523155 ,\n",
              "         -0.672812  , -0.78192437],\n",
              "        [ 0.1545783 , -1.1028016 ,  0.5875504 , -0.994818  ,  0.5506519 ,\n",
              "          0.75314754, -0.29523024],\n",
              "        [-1.1158653 ,  0.6891059 , -0.34291357,  0.81845546, -0.02753471,\n",
              "         -0.1091662 , -0.59406126],\n",
              "        [-0.35091645, -0.5046561 ,  0.74621934, -0.47128725,  0.8249133 ,\n",
              "          0.8412923 ,  0.4096439 ]], dtype=float32),\n",
              " array([ 0.08998076,  0.18376926, -0.02559807,  0.2299153 ,  0.0046041 ,\n",
              "         0.06435753,  0.03912112], dtype=float32),\n",
              " array([[ 1.0293674 ],\n",
              "        [-0.5972768 ],\n",
              "        [ 1.0230039 ],\n",
              "        [-0.49803808],\n",
              "        [ 0.8823682 ],\n",
              "        [ 0.7732107 ],\n",
              "        [ 0.8525682 ]], dtype=float32),\n",
              " array([-1.52868], dtype=float32)]"
            ]
          },
          "metadata": {},
          "execution_count": 83
        }
      ]
    }
  ]
}